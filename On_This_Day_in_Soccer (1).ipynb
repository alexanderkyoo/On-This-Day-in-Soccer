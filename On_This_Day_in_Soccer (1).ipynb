{
  "cells": [
    {
      "cell_type": "code",
      "execution_count": null,
      "metadata": {
        "id": "X1EqxfTTLTgq"
      },
      "outputs": [],
      "source": [
        "import pandas as pd\n",
        "import random\n",
        "import requests\n",
        "from bs4 import BeautifulSoup"
      ]
    },
    {
      "cell_type": "code",
      "execution_count": null,
      "metadata": {
        "colab": {
          "background_save": true
        },
        "id": "TFLIPRzFLWgI"
      },
      "outputs": [],
      "source": [
        "month = input(\"Please input a month in two digit form. ex. 08 = August: \")\n",
        "day = input(\"Please input a day in two digit form. ex. 05: \")\n",
        "while True:\n",
        "    year = random.randint(1888, 2022)\n",
        "    date = str(year) + '-' + month + '-' + day\n",
        "    url = 'https://fbref.com/en/matches/' + str(date)\n",
        "    try:\n",
        "      df = pd.read_html(url)\n",
        "      break\n",
        "    except:\n",
        "      pass"
      ]
    },
    {
      "cell_type": "code",
      "execution_count": null,
      "metadata": {
        "colab": {
          "base_uri": "https://localhost:8080/",
          "height": 35
        },
        "id": "JKQCNLpHboOo",
        "outputId": "7793562a-14a3-4f66-bf2d-6523f8fe1a2b"
      },
      "outputs": [
        {
          "data": {
            "application/vnd.google.colaboratory.intrinsic+json": {
              "type": "string"
            },
            "text/plain": [
              "'July-17-2010'"
            ]
          },
          "execution_count": 98,
          "metadata": {},
          "output_type": "execute_result"
        }
      ],
      "source": [
        "monthDict = {\t'01':'Janauary',\n",
        "\t\t'02':'February',\n",
        "\t\t'03':'March',\n",
        "\t\t'04':'April',\n",
        "\t\t'05':'May',\n",
        "\t\t'06':'June',\n",
        "\t\t'07':'July',\n",
        "\t\t'08':'August',\n",
        "\t\t'09':'September',\n",
        "\t\t'10':'October',\n",
        "\t\t'11':'November',\n",
        "\t\t'12':'December'\t\t}\n",
        "letterDate = monthDict[month] + '-' + day + '-' + str(year)\n",
        "letterDate"
      ]
    },
    {
      "cell_type": "code",
      "execution_count": null,
      "metadata": {
        "id": "bfbhsuWxXLiW"
      },
      "outputs": [],
      "source": [
        "response = requests.get(url)\n",
        "soup = BeautifulSoup(response.text, 'html.parser')\n",
        "linkList = []\n",
        "\n",
        "index = 0;\n",
        "for a in soup.find_all('a', href=True, ):\n",
        "  if(a['href'][0:12] == \"/en/matches/\" and letterDate in a['href']):\n",
        "    linkList.append(a['href'])\n",
        "\n",
        "linkFinal = [*set(linkList)]\n",
        "\n",
        "url = 'https://fbref.com' + linkFinal[random.randint(0, len(linkFinal) - 1)]"
      ]
    },
    {
      "cell_type": "code",
      "execution_count": null,
      "metadata": {
        "id": "nRE4af6xqPvs"
      },
      "outputs": [],
      "source": [
        "from prompt_toolkit.formatted_text.utils import fragment_list_to_text\n",
        "df = pd.read_html(url)\n",
        "\n",
        "response = requests.get(url)\n",
        "soup = BeautifulSoup(response.text, 'html.parser')\n",
        "\n",
        "score = []\n",
        "for el in soup.select(\"[class='score']\"):\n",
        "    score.append(str(el)[19])\n",
        "\n",
        "for title in soup.find_all('h1'):\n",
        "  matchName = str(title)[4:str(title).index('Match Report')]\n",
        "\n",
        "a_scorers = []\n",
        "b_scorers = []\n",
        "\n",
        "for team in soup.find_all('div', id='a'):\n",
        "  teamGoals = team.find_all()\n",
        "  for each in teamGoals:\n",
        "    goal = False\n",
        "    ownG = False\n",
        "    pen = False\n",
        "    for event in each.find_all('div'):\n",
        "      if(str(event)[12:-8] == \"event_icon goal\"):\n",
        "        goal = True\n",
        "      elif(str(event)[12:-8] == \"event_icon penalty_goal\"):\n",
        "        pen = True\n",
        "      elif(str(event)[12:-8] == \"event_icon own_goal\"):\n",
        "        ownG = True\n",
        "    for name in each.find_all('a'):\n",
        "      if(goal):\n",
        "        a_scorers.append(str(name)[str(name).index('>') + 1:-4])\n",
        "      if(pen):\n",
        "        a_scorers.append(str(name)[str(name).index('>') + 1:-4] + \"(P)\")\n",
        "      if(ownG):\n",
        "        a_scorers.append(str(name)[str(name).index('>') + 1:-4] + \"(OG)\")\n",
        "  if(len(a_scorers) >= int(score[0])): break\n",
        "\n",
        "for team in soup.find_all('div', id='b'):\n",
        "  teamGoals = team.find_all()\n",
        "  for each in teamGoals:\n",
        "    goal = False\n",
        "    ownG = Falsepen = False\n",
        "    for event in each.find_all('div'):\n",
        "      if(str(event)[12:-8] == \"event_icon goal\"):\n",
        "        goal = True\n",
        "      elif(str(event)[12:-8] == \"event_icon penalty_goal\"):\n",
        "        pen = True\n",
        "      elif(str(event)[12:-8] == \"event_icon own_goal\"):\n",
        "        ownG = True\n",
        "    for name in each.find_all('a'):\n",
        "      if(goal):\n",
        "        b_scorers.append(str(name)[str(name).index('>') + 1:-4])\n",
        "      if(pen):\n",
        "        b_scorers.append(str(name)[str(name).index('>') + 1:-4] + \"(P)\")\n",
        "      if(ownG):\n",
        "        b_scorers.append(str(name)[str(name).index('>') + 1:-4] + \"(OG)\")\n",
        "  if(len(b_scorers) >= int(score[1])): break"
      ]
    },
    {
      "cell_type": "code",
      "execution_count": null,
      "metadata": {
        "colab": {
          "base_uri": "https://localhost:8080/",
          "height": 236
        },
        "id": "IxDa8xGfxk-h",
        "outputId": "bf002fcb-ace6-4cfa-d39b-11aeb5137f31"
      },
      "outputs": [
        {
          "ename": "NameError",
          "evalue": "ignored",
          "output_type": "error",
          "traceback": [
            "\u001b[0;31m---------------------------------------------------------------------------\u001b[0m",
            "\u001b[0;31mNameError\u001b[0m                                 Traceback (most recent call last)",
            "\u001b[0;32m<ipython-input-12-e7193e46f874>\u001b[0m in \u001b[0;36m<module>\u001b[0;34m\u001b[0m\n\u001b[0;32m----> 1\u001b[0;31m \u001b[0mprint\u001b[0m\u001b[0;34m(\u001b[0m\u001b[0mmatchName\u001b[0m\u001b[0;34m)\u001b[0m\u001b[0;34m\u001b[0m\u001b[0;34m\u001b[0m\u001b[0m\n\u001b[0m\u001b[1;32m      2\u001b[0m \u001b[0mprint\u001b[0m\u001b[0;34m(\u001b[0m\u001b[0mscore\u001b[0m\u001b[0;34m)\u001b[0m\u001b[0;34m\u001b[0m\u001b[0;34m\u001b[0m\u001b[0m\n\u001b[1;32m      3\u001b[0m \u001b[0mprint\u001b[0m\u001b[0;34m(\u001b[0m\u001b[0mletterDate\u001b[0m\u001b[0;34m)\u001b[0m\u001b[0;34m\u001b[0m\u001b[0;34m\u001b[0m\u001b[0m\n\u001b[1;32m      4\u001b[0m \u001b[0;32mif\u001b[0m \u001b[0;34m(\u001b[0m\u001b[0;32mnot\u001b[0m \u001b[0mlen\u001b[0m\u001b[0;34m(\u001b[0m\u001b[0ma_scorers\u001b[0m\u001b[0;34m)\u001b[0m \u001b[0;34m==\u001b[0m \u001b[0mint\u001b[0m\u001b[0;34m(\u001b[0m\u001b[0mscore\u001b[0m\u001b[0;34m[\u001b[0m\u001b[0;36m0\u001b[0m\u001b[0;34m]\u001b[0m\u001b[0;34m)\u001b[0m \u001b[0;32mand\u001b[0m \u001b[0;32mnot\u001b[0m \u001b[0mlen\u001b[0m\u001b[0;34m(\u001b[0m\u001b[0mb_scorers\u001b[0m\u001b[0;34m)\u001b[0m \u001b[0;34m==\u001b[0m \u001b[0mint\u001b[0m\u001b[0;34m(\u001b[0m\u001b[0mscore\u001b[0m\u001b[0;34m[\u001b[0m\u001b[0;36m1\u001b[0m\u001b[0;34m]\u001b[0m\u001b[0;34m)\u001b[0m\u001b[0;34m)\u001b[0m\u001b[0;34m:\u001b[0m\u001b[0;34m\u001b[0m\u001b[0;34m\u001b[0m\u001b[0m\n\u001b[1;32m      5\u001b[0m   \u001b[0mprint\u001b[0m\u001b[0;34m(\u001b[0m\u001b[0;34m\"Scorer data not available\"\u001b[0m\u001b[0;34m)\u001b[0m\u001b[0;34m\u001b[0m\u001b[0;34m\u001b[0m\u001b[0m\n",
            "\u001b[0;31mNameError\u001b[0m: name 'matchName' is not defined"
          ]
        }
      ],
      "source": [
        "print(matchName)\n",
        "print(score)\n",
        "print(letterDate)\n",
        "if (not len(a_scorers) == int(score[0]) and not len(b_scorers) == int(score[1])):\n",
        "  print(\"Scorer data not available\")\n",
        "else:\n",
        "  print(a_scorers)\n",
        "  print(b_scorers)"
      ]
    }
  ],
  "metadata": {
    "colab": {
      "provenance": [],
      "toc_visible": true
    },
    "kernelspec": {
      "display_name": "Python 3",
      "name": "python3"
    },
    "language_info": {
      "name": "python"
    }
  },
  "nbformat": 4,
  "nbformat_minor": 0
}